{
 "cells": [
  {
   "cell_type": "markdown",
   "metadata": {},
   "source": [
    "Se desarrolla el ejercicio primero en pandas y luego como un conjunto de listas."
   ]
  },
  {
   "cell_type": "code",
   "execution_count": 233,
   "metadata": {
    "scrolled": true
   },
   "outputs": [],
   "source": [
    "import pandas as pd\n",
    "import csv\n",
    "import statistics\n",
    "from tabulate import tabulate"
   ]
  },
  {
   "cell_type": "code",
   "execution_count": 162,
   "metadata": {
    "collapsed": true
   },
   "outputs": [
    {
     "name": "stdout",
     "output_type": "stream",
     "text": [
      "['5.1', '3.5', '1.4', '0.2', 'Iris-setosa']\n",
      "['4.9', '3.0', '1.4', '0.2', 'Iris-setosa']\n",
      "['4.7', '3.2', '1.3', '0.2', 'Iris-setosa']\n",
      "['4.6', '3.1', '1.5', '0.2', 'Iris-setosa']\n",
      "['5.0', '3.6', '1.4', '0.2', 'Iris-setosa']\n",
      "['5.4', '3.9', '1.7', '0.4', 'Iris-setosa']\n",
      "['4.6', '3.4', '1.4', '0.3', 'Iris-setosa']\n",
      "['5.0', '3.4', '1.5', '0.2', 'Iris-setosa']\n",
      "['4.4', '2.9', '1.4', '0.2', 'Iris-setosa']\n",
      "['4.9', '3.1', '1.5', '0.1', 'Iris-setosa']\n",
      "['5.4', '3.7', '1.5', '0.2', 'Iris-setosa']\n",
      "['4.8', '3.4', '1.6', '0.2', 'Iris-setosa']\n",
      "['4.8', '3.0', '1.4', '0.1', 'Iris-setosa']\n",
      "['4.3', '3.0', '1.1', '0.1', 'Iris-setosa']\n",
      "['5.8', '4.0', '1.2', '0.2', 'Iris-setosa']\n",
      "['5.7', '4.4', '1.5', '0.4', 'Iris-setosa']\n",
      "['5.4', '3.9', '1.3', '0.4', 'Iris-setosa']\n",
      "['5.1', '3.5', '1.4', '0.3', 'Iris-setosa']\n",
      "['5.7', '3.8', '1.7', '0.3', 'Iris-setosa']\n",
      "['5.1', '3.8', '1.5', '0.3', 'Iris-setosa']\n",
      "['5.4', '3.4', '1.7', '0.2', 'Iris-setosa']\n",
      "['5.1', '3.7', '1.5', '0.4', 'Iris-setosa']\n",
      "['4.6', '3.6', '1.0', '0.2', 'Iris-setosa']\n",
      "['5.1', '3.3', '1.7', '0.5', 'Iris-setosa']\n",
      "['4.8', '3.4', '1.9', '0.2', 'Iris-setosa']\n",
      "['5.0', '3.0', '1.6', '0.2', 'Iris-setosa']\n",
      "['5.0', '3.4', '1.6', '0.4', 'Iris-setosa']\n",
      "['5.2', '3.5', '1.5', '0.2', 'Iris-setosa']\n",
      "['5.2', '3.4', '1.4', '0.2', 'Iris-setosa']\n",
      "['4.7', '3.2', '1.6', '0.2', 'Iris-setosa']\n",
      "['4.8', '3.1', '1.6', '0.2', 'Iris-setosa']\n",
      "['5.4', '3.4', '1.5', '0.4', 'Iris-setosa']\n",
      "['5.2', '4.1', '1.5', '0.1', 'Iris-setosa']\n",
      "['5.5', '4.2', '1.4', '0.2', 'Iris-setosa']\n",
      "['4.9', '3.1', '1.5', '0.1', 'Iris-setosa']\n",
      "['5.0', '3.2', '1.2', '0.2', 'Iris-setosa']\n",
      "['5.5', '3.5', '1.3', '0.2', 'Iris-setosa']\n",
      "['4.9', '3.1', '1.5', '0.1', 'Iris-setosa']\n",
      "['4.4', '3.0', '1.3', '0.2', 'Iris-setosa']\n",
      "['5.1', '3.4', '1.5', '0.2', 'Iris-setosa']\n",
      "['5.0', '3.5', '1.3', '0.3', 'Iris-setosa']\n",
      "['4.5', '2.3', '1.3', '0.3', 'Iris-setosa']\n",
      "['4.4', '3.2', '1.3', '0.2', 'Iris-setosa']\n",
      "['5.0', '3.5', '1.6', '0.6', 'Iris-setosa']\n",
      "['5.1', '3.8', '1.9', '0.4', 'Iris-setosa']\n",
      "['4.8', '3.0', '1.4', '0.3', 'Iris-setosa']\n",
      "['5.1', '3.8', '1.6', '0.2', 'Iris-setosa']\n",
      "['4.6', '3.2', '1.4', '0.2', 'Iris-setosa']\n",
      "['5.3', '3.7', '1.5', '0.2', 'Iris-setosa']\n",
      "['5.0', '3.3', '1.4', '0.2', 'Iris-setosa']\n",
      "['7.0', '3.2', '4.7', '1.4', 'Iris-versicolor']\n",
      "['6.4', '3.2', '4.5', '1.5', 'Iris-versicolor']\n",
      "['6.9', '3.1', '4.9', '1.5', 'Iris-versicolor']\n",
      "['5.5', '2.3', '4.0', '1.3', 'Iris-versicolor']\n",
      "['6.5', '2.8', '4.6', '1.5', 'Iris-versicolor']\n",
      "['5.7', '2.8', '4.5', '1.3', 'Iris-versicolor']\n",
      "['6.3', '3.3', '4.7', '1.6', 'Iris-versicolor']\n",
      "['4.9', '2.4', '3.3', '1.0', 'Iris-versicolor']\n",
      "['6.6', '2.9', '4.6', '1.3', 'Iris-versicolor']\n",
      "['5.2', '2.7', '3.9', '1.4', 'Iris-versicolor']\n",
      "['5.0', '2.0', '3.5', '1.0', 'Iris-versicolor']\n",
      "['5.9', '3.0', '4.2', '1.5', 'Iris-versicolor']\n",
      "['6.0', '2.2', '4.0', '1.0', 'Iris-versicolor']\n",
      "['6.1', '2.9', '4.7', '1.4', 'Iris-versicolor']\n",
      "['5.6', '2.9', '3.6', '1.3', 'Iris-versicolor']\n",
      "['6.7', '3.1', '4.4', '1.4', 'Iris-versicolor']\n",
      "['5.6', '3.0', '4.5', '1.5', 'Iris-versicolor']\n",
      "['5.8', '2.7', '4.1', '1.0', 'Iris-versicolor']\n",
      "['6.2', '2.2', '4.5', '1.5', 'Iris-versicolor']\n",
      "['5.6', '2.5', '3.9', '1.1', 'Iris-versicolor']\n",
      "['5.9', '3.2', '4.8', '1.8', 'Iris-versicolor']\n",
      "['6.1', '2.8', '4.0', '1.3', 'Iris-versicolor']\n",
      "['6.3', '2.5', '4.9', '1.5', 'Iris-versicolor']\n",
      "['6.1', '2.8', '4.7', '1.2', 'Iris-versicolor']\n",
      "['6.4', '2.9', '4.3', '1.3', 'Iris-versicolor']\n",
      "['6.6', '3.0', '4.4', '1.4', 'Iris-versicolor']\n",
      "['6.8', '2.8', '4.8', '1.4', 'Iris-versicolor']\n",
      "['6.7', '3.0', '5.0', '1.7', 'Iris-versicolor']\n",
      "['6.0', '2.9', '4.5', '1.5', 'Iris-versicolor']\n",
      "['5.7', '2.6', '3.5', '1.0', 'Iris-versicolor']\n",
      "['5.5', '2.4', '3.8', '1.1', 'Iris-versicolor']\n",
      "['5.5', '2.4', '3.7', '1.0', 'Iris-versicolor']\n",
      "['5.8', '2.7', '3.9', '1.2', 'Iris-versicolor']\n",
      "['6.0', '2.7', '5.1', '1.6', 'Iris-versicolor']\n",
      "['5.4', '3.0', '4.5', '1.5', 'Iris-versicolor']\n",
      "['6.0', '3.4', '4.5', '1.6', 'Iris-versicolor']\n",
      "['6.7', '3.1', '4.7', '1.5', 'Iris-versicolor']\n",
      "['6.3', '2.3', '4.4', '1.3', 'Iris-versicolor']\n",
      "['5.6', '3.0', '4.1', '1.3', 'Iris-versicolor']\n",
      "['5.5', '2.5', '4.0', '1.3', 'Iris-versicolor']\n",
      "['5.5', '2.6', '4.4', '1.2', 'Iris-versicolor']\n",
      "['6.1', '3.0', '4.6', '1.4', 'Iris-versicolor']\n",
      "['5.8', '2.6', '4.0', '1.2', 'Iris-versicolor']\n",
      "['5.0', '2.3', '3.3', '1.0', 'Iris-versicolor']\n",
      "['5.6', '2.7', '4.2', '1.3', 'Iris-versicolor']\n",
      "['5.7', '3.0', '4.2', '1.2', 'Iris-versicolor']\n",
      "['5.7', '2.9', '4.2', '1.3', 'Iris-versicolor']\n",
      "['6.2', '2.9', '4.3', '1.3', 'Iris-versicolor']\n",
      "['5.1', '2.5', '3.0', '1.1', 'Iris-versicolor']\n",
      "['5.7', '2.8', '4.1', '1.3', 'Iris-versicolor']\n",
      "['6.3', '3.3', '6.0', '2.5', 'Iris-virginica']\n",
      "['5.8', '2.7', '5.1', '1.9', 'Iris-virginica']\n",
      "['7.1', '3.0', '5.9', '2.1', 'Iris-virginica']\n",
      "['6.3', '2.9', '5.6', '1.8', 'Iris-virginica']\n",
      "['6.5', '3.0', '5.8', '2.2', 'Iris-virginica']\n",
      "['7.6', '3.0', '6.6', '2.1', 'Iris-virginica']\n",
      "['4.9', '2.5', '4.5', '1.7', 'Iris-virginica']\n",
      "['7.3', '2.9', '6.3', '1.8', 'Iris-virginica']\n",
      "['6.7', '2.5', '5.8', '1.8', 'Iris-virginica']\n",
      "['7.2', '3.6', '6.1', '2.5', 'Iris-virginica']\n",
      "['6.5', '3.2', '5.1', '2.0', 'Iris-virginica']\n",
      "['6.4', '2.7', '5.3', '1.9', 'Iris-virginica']\n",
      "['6.8', '3.0', '5.5', '2.1', 'Iris-virginica']\n",
      "['5.7', '2.5', '5.0', '2.0', 'Iris-virginica']\n",
      "['5.8', '2.8', '5.1', '2.4', 'Iris-virginica']\n",
      "['6.4', '3.2', '5.3', '2.3', 'Iris-virginica']\n",
      "['6.5', '3.0', '5.5', '1.8', 'Iris-virginica']\n",
      "['7.7', '3.8', '6.7', '2.2', 'Iris-virginica']\n",
      "['7.7', '2.6', '6.9', '2.3', 'Iris-virginica']\n",
      "['6.0', '2.2', '5.0', '1.5', 'Iris-virginica']\n",
      "['6.9', '3.2', '5.7', '2.3', 'Iris-virginica']\n",
      "['5.6', '2.8', '4.9', '2.0', 'Iris-virginica']\n",
      "['7.7', '2.8', '6.7', '2.0', 'Iris-virginica']\n",
      "['6.3', '2.7', '4.9', '1.8', 'Iris-virginica']\n",
      "['6.7', '3.3', '5.7', '2.1', 'Iris-virginica']\n",
      "['7.2', '3.2', '6.0', '1.8', 'Iris-virginica']\n",
      "['6.2', '2.8', '4.8', '1.8', 'Iris-virginica']\n",
      "['6.1', '3.0', '4.9', '1.8', 'Iris-virginica']\n",
      "['6.4', '2.8', '5.6', '2.1', 'Iris-virginica']\n",
      "['7.2', '3.0', '5.8', '1.6', 'Iris-virginica']\n",
      "['7.4', '2.8', '6.1', '1.9', 'Iris-virginica']\n",
      "['7.9', '3.8', '6.4', '2.0', 'Iris-virginica']\n",
      "['6.4', '2.8', '5.6', '2.2', 'Iris-virginica']\n",
      "['6.3', '2.8', '5.1', '1.5', 'Iris-virginica']\n",
      "['6.1', '2.6', '5.6', '1.4', 'Iris-virginica']\n",
      "['7.7', '3.0', '6.1', '2.3', 'Iris-virginica']\n",
      "['6.3', '3.4', '5.6', '2.4', 'Iris-virginica']\n",
      "['6.4', '3.1', '5.5', '1.8', 'Iris-virginica']\n",
      "['6.0', '3.0', '4.8', '1.8', 'Iris-virginica']\n",
      "['6.9', '3.1', '5.4', '2.1', 'Iris-virginica']\n",
      "['6.7', '3.1', '5.6', '2.4', 'Iris-virginica']\n",
      "['6.9', '3.1', '5.1', '2.3', 'Iris-virginica']\n",
      "['5.8', '2.7', '5.1', '1.9', 'Iris-virginica']\n",
      "['6.8', '3.2', '5.9', '2.3', 'Iris-virginica']\n",
      "['6.7', '3.3', '5.7', '2.5', 'Iris-virginica']\n",
      "['6.7', '3.0', '5.2', '2.3', 'Iris-virginica']\n",
      "['6.3', '2.5', '5.0', '1.9', 'Iris-virginica']\n",
      "['6.5', '3.0', '5.2', '2.0', 'Iris-virginica']\n",
      "['6.2', '3.4', '5.4', '2.3', 'Iris-virginica']\n",
      "['5.9', '3.0', '5.1', '1.8', 'Iris-virginica']\n",
      "[]\n"
     ]
    }
   ],
   "source": [
    "#PUNTO 2 Y 3\n",
    "import csv\n",
    "with open('data/iris.data', 'r') as file:\n",
    "    reader = csv.reader(file)\n",
    "    for linea in reader:\n",
    "        print(linea)\n",
    "    datos = list(reader)\n"
   ]
  },
  {
   "cell_type": "code",
   "execution_count": 164,
   "metadata": {
    "collapsed": true
   },
   "outputs": [
    {
     "name": "stdout",
     "output_type": "stream",
     "text": [
      "  largo_sepalo ancho_sepalo largo_petalo ancho_petalo      especie\n",
      "0          5.1          3.5          1.4          0.2  Iris-setosa\n",
      "1          4.9          3.0          1.4          0.2  Iris-setosa\n",
      "2          4.7          3.2          1.3          0.2  Iris-setosa\n",
      "3          4.6          3.1          1.5          0.2  Iris-setosa\n",
      "4          5.0          3.6          1.4          0.2  Iris-setosa\n",
      "<class 'pandas.core.frame.DataFrame'>\n",
      "RangeIndex: 151 entries, 0 to 150\n",
      "Data columns (total 5 columns):\n",
      " #   Column        Non-Null Count  Dtype \n",
      "---  ------        --------------  ----- \n",
      " 0   largo_sepalo  150 non-null    object\n",
      " 1   ancho_sepalo  150 non-null    object\n",
      " 2   largo_petalo  150 non-null    object\n",
      " 3   ancho_petalo  150 non-null    object\n",
      " 4   especie       150 non-null    object\n",
      "dtypes: object(5)\n",
      "memory usage: 6.0+ KB\n",
      "None\n"
     ]
    }
   ],
   "source": [
    "with open('data/iris.data', \"r\") as archivo:\n",
    "    data = csv.reader(archivo)\n",
    "    header = ['largo_sepalo', 'ancho_sepalo', 'largo_petalo', \"ancho_petalo\", \"especie\"]\n",
    "    df = pd.DataFrame(data, columns=header)\n",
    "    print(df.head())\n",
    "    print(df.info())\n",
    "    \n"
   ]
  },
  {
   "cell_type": "code",
   "execution_count": 165,
   "metadata": {
    "collapsed": true
   },
   "outputs": [
    {
     "data": {
      "text/html": [
       "<div>\n",
       "<style scoped>\n",
       "    .dataframe tbody tr th:only-of-type {\n",
       "        vertical-align: middle;\n",
       "    }\n",
       "\n",
       "    .dataframe tbody tr th {\n",
       "        vertical-align: top;\n",
       "    }\n",
       "\n",
       "    .dataframe thead th {\n",
       "        text-align: right;\n",
       "    }\n",
       "</style>\n",
       "<table border=\"1\" class=\"dataframe\">\n",
       "  <thead>\n",
       "    <tr style=\"text-align: right;\">\n",
       "      <th></th>\n",
       "      <th>largo_sepalo</th>\n",
       "      <th>ancho_sepalo</th>\n",
       "      <th>largo_petalo</th>\n",
       "      <th>ancho_petalo</th>\n",
       "    </tr>\n",
       "  </thead>\n",
       "  <tbody>\n",
       "    <tr>\n",
       "      <th>count</th>\n",
       "      <td>150</td>\n",
       "      <td>150</td>\n",
       "      <td>150</td>\n",
       "      <td>150</td>\n",
       "    </tr>\n",
       "    <tr>\n",
       "      <th>unique</th>\n",
       "      <td>35</td>\n",
       "      <td>23</td>\n",
       "      <td>43</td>\n",
       "      <td>22</td>\n",
       "    </tr>\n",
       "    <tr>\n",
       "      <th>top</th>\n",
       "      <td>5.0</td>\n",
       "      <td>3.0</td>\n",
       "      <td>1.5</td>\n",
       "      <td>0.2</td>\n",
       "    </tr>\n",
       "    <tr>\n",
       "      <th>freq</th>\n",
       "      <td>10</td>\n",
       "      <td>26</td>\n",
       "      <td>14</td>\n",
       "      <td>28</td>\n",
       "    </tr>\n",
       "  </tbody>\n",
       "</table>\n",
       "</div>"
      ],
      "text/plain": [
       "       largo_sepalo ancho_sepalo largo_petalo ancho_petalo\n",
       "count           150          150          150          150\n",
       "unique           35           23           43           22\n",
       "top             5.0          3.0          1.5          0.2\n",
       "freq             10           26           14           28"
      ]
     },
     "execution_count": 165,
     "metadata": {},
     "output_type": "execute_result"
    }
   ],
   "source": [
    "df[[\"largo_sepalo\", \"ancho_sepalo\", \"largo_petalo\", \"ancho_petalo\"]].describe()"
   ]
  },
  {
   "cell_type": "code",
   "execution_count": 166,
   "metadata": {},
   "outputs": [],
   "source": [
    "columnas = df.columns.drop('especie')\n",
    "df[columnas] = df[columnas].apply(pd.to_numeric, errors='coerce')"
   ]
  },
  {
   "cell_type": "code",
   "execution_count": 167,
   "metadata": {
    "collapsed": true
   },
   "outputs": [
    {
     "data": {
      "text/html": [
       "<div>\n",
       "<style scoped>\n",
       "    .dataframe tbody tr th:only-of-type {\n",
       "        vertical-align: middle;\n",
       "    }\n",
       "\n",
       "    .dataframe tbody tr th {\n",
       "        vertical-align: top;\n",
       "    }\n",
       "\n",
       "    .dataframe thead th {\n",
       "        text-align: right;\n",
       "    }\n",
       "</style>\n",
       "<table border=\"1\" class=\"dataframe\">\n",
       "  <thead>\n",
       "    <tr style=\"text-align: right;\">\n",
       "      <th></th>\n",
       "      <th>largo_sepalo</th>\n",
       "      <th>ancho_sepalo</th>\n",
       "      <th>largo_petalo</th>\n",
       "      <th>ancho_petalo</th>\n",
       "    </tr>\n",
       "  </thead>\n",
       "  <tbody>\n",
       "    <tr>\n",
       "      <th>count</th>\n",
       "      <td>150.000000</td>\n",
       "      <td>150.000000</td>\n",
       "      <td>150.000000</td>\n",
       "      <td>150.000000</td>\n",
       "    </tr>\n",
       "    <tr>\n",
       "      <th>mean</th>\n",
       "      <td>5.843333</td>\n",
       "      <td>3.054000</td>\n",
       "      <td>3.758667</td>\n",
       "      <td>1.198667</td>\n",
       "    </tr>\n",
       "    <tr>\n",
       "      <th>std</th>\n",
       "      <td>0.828066</td>\n",
       "      <td>0.433594</td>\n",
       "      <td>1.764420</td>\n",
       "      <td>0.763161</td>\n",
       "    </tr>\n",
       "    <tr>\n",
       "      <th>min</th>\n",
       "      <td>4.300000</td>\n",
       "      <td>2.000000</td>\n",
       "      <td>1.000000</td>\n",
       "      <td>0.100000</td>\n",
       "    </tr>\n",
       "    <tr>\n",
       "      <th>25%</th>\n",
       "      <td>5.100000</td>\n",
       "      <td>2.800000</td>\n",
       "      <td>1.600000</td>\n",
       "      <td>0.300000</td>\n",
       "    </tr>\n",
       "    <tr>\n",
       "      <th>50%</th>\n",
       "      <td>5.800000</td>\n",
       "      <td>3.000000</td>\n",
       "      <td>4.350000</td>\n",
       "      <td>1.300000</td>\n",
       "    </tr>\n",
       "    <tr>\n",
       "      <th>75%</th>\n",
       "      <td>6.400000</td>\n",
       "      <td>3.300000</td>\n",
       "      <td>5.100000</td>\n",
       "      <td>1.800000</td>\n",
       "    </tr>\n",
       "    <tr>\n",
       "      <th>max</th>\n",
       "      <td>7.900000</td>\n",
       "      <td>4.400000</td>\n",
       "      <td>6.900000</td>\n",
       "      <td>2.500000</td>\n",
       "    </tr>\n",
       "  </tbody>\n",
       "</table>\n",
       "</div>"
      ],
      "text/plain": [
       "       largo_sepalo  ancho_sepalo  largo_petalo  ancho_petalo\n",
       "count    150.000000    150.000000    150.000000    150.000000\n",
       "mean       5.843333      3.054000      3.758667      1.198667\n",
       "std        0.828066      0.433594      1.764420      0.763161\n",
       "min        4.300000      2.000000      1.000000      0.100000\n",
       "25%        5.100000      2.800000      1.600000      0.300000\n",
       "50%        5.800000      3.000000      4.350000      1.300000\n",
       "75%        6.400000      3.300000      5.100000      1.800000\n",
       "max        7.900000      4.400000      6.900000      2.500000"
      ]
     },
     "execution_count": 167,
     "metadata": {},
     "output_type": "execute_result"
    }
   ],
   "source": [
    "df.describe()"
   ]
  },
  {
   "cell_type": "code",
   "execution_count": 168,
   "metadata": {
    "collapsed": true
   },
   "outputs": [
    {
     "data": {
      "text/plain": [
       "largo_sepalo    5.843333\n",
       "ancho_sepalo    3.054000\n",
       "largo_petalo    3.758667\n",
       "ancho_petalo    1.198667\n",
       "dtype: float64"
      ]
     },
     "execution_count": 168,
     "metadata": {},
     "output_type": "execute_result"
    }
   ],
   "source": [
    "#PUNTO 5: se imprime el promedio de las cuatro primeras columnas\n",
    "df.mean()"
   ]
  },
  {
   "cell_type": "code",
   "execution_count": 169,
   "metadata": {
    "collapsed": true
   },
   "outputs": [
    {
     "data": {
      "text/html": [
       "<div>\n",
       "<style scoped>\n",
       "    .dataframe tbody tr th:only-of-type {\n",
       "        vertical-align: middle;\n",
       "    }\n",
       "\n",
       "    .dataframe tbody tr th {\n",
       "        vertical-align: top;\n",
       "    }\n",
       "\n",
       "    .dataframe thead th {\n",
       "        text-align: right;\n",
       "    }\n",
       "</style>\n",
       "<table border=\"1\" class=\"dataframe\">\n",
       "  <thead>\n",
       "    <tr style=\"text-align: right;\">\n",
       "      <th></th>\n",
       "      <th>largo_sepalo</th>\n",
       "      <th>ancho_sepalo</th>\n",
       "      <th>largo_petalo</th>\n",
       "      <th>ancho_petalo</th>\n",
       "    </tr>\n",
       "  </thead>\n",
       "  <tbody>\n",
       "    <tr>\n",
       "      <th>count</th>\n",
       "      <td>150.000000</td>\n",
       "      <td>150.000000</td>\n",
       "      <td>150.000000</td>\n",
       "      <td>150.000000</td>\n",
       "    </tr>\n",
       "    <tr>\n",
       "      <th>mean</th>\n",
       "      <td>5.843333</td>\n",
       "      <td>3.054000</td>\n",
       "      <td>3.758667</td>\n",
       "      <td>1.198667</td>\n",
       "    </tr>\n",
       "    <tr>\n",
       "      <th>std</th>\n",
       "      <td>0.828066</td>\n",
       "      <td>0.433594</td>\n",
       "      <td>1.764420</td>\n",
       "      <td>0.763161</td>\n",
       "    </tr>\n",
       "    <tr>\n",
       "      <th>min</th>\n",
       "      <td>4.300000</td>\n",
       "      <td>2.000000</td>\n",
       "      <td>1.000000</td>\n",
       "      <td>0.100000</td>\n",
       "    </tr>\n",
       "    <tr>\n",
       "      <th>25%</th>\n",
       "      <td>5.100000</td>\n",
       "      <td>2.800000</td>\n",
       "      <td>1.600000</td>\n",
       "      <td>0.300000</td>\n",
       "    </tr>\n",
       "    <tr>\n",
       "      <th>50%</th>\n",
       "      <td>5.800000</td>\n",
       "      <td>3.000000</td>\n",
       "      <td>4.350000</td>\n",
       "      <td>1.300000</td>\n",
       "    </tr>\n",
       "    <tr>\n",
       "      <th>75%</th>\n",
       "      <td>6.400000</td>\n",
       "      <td>3.300000</td>\n",
       "      <td>5.100000</td>\n",
       "      <td>1.800000</td>\n",
       "    </tr>\n",
       "    <tr>\n",
       "      <th>max</th>\n",
       "      <td>7.900000</td>\n",
       "      <td>4.400000</td>\n",
       "      <td>6.900000</td>\n",
       "      <td>2.500000</td>\n",
       "    </tr>\n",
       "  </tbody>\n",
       "</table>\n",
       "</div>"
      ],
      "text/plain": [
       "       largo_sepalo  ancho_sepalo  largo_petalo  ancho_petalo\n",
       "count    150.000000    150.000000    150.000000    150.000000\n",
       "mean       5.843333      3.054000      3.758667      1.198667\n",
       "std        0.828066      0.433594      1.764420      0.763161\n",
       "min        4.300000      2.000000      1.000000      0.100000\n",
       "25%        5.100000      2.800000      1.600000      0.300000\n",
       "50%        5.800000      3.000000      4.350000      1.300000\n",
       "75%        6.400000      3.300000      5.100000      1.800000\n",
       "max        7.900000      4.400000      6.900000      2.500000"
      ]
     },
     "execution_count": 169,
     "metadata": {},
     "output_type": "execute_result"
    }
   ],
   "source": [
    "df.describe()"
   ]
  },
  {
   "cell_type": "code",
   "execution_count": 170,
   "metadata": {},
   "outputs": [
    {
     "data": {
      "text/html": [
       "<div>\n",
       "<style scoped>\n",
       "    .dataframe tbody tr th:only-of-type {\n",
       "        vertical-align: middle;\n",
       "    }\n",
       "\n",
       "    .dataframe tbody tr th {\n",
       "        vertical-align: top;\n",
       "    }\n",
       "\n",
       "    .dataframe thead th {\n",
       "        text-align: right;\n",
       "    }\n",
       "</style>\n",
       "<table border=\"1\" class=\"dataframe\">\n",
       "  <thead>\n",
       "    <tr style=\"text-align: right;\">\n",
       "      <th></th>\n",
       "      <th>largo_sepalo</th>\n",
       "      <th>ancho_sepalo</th>\n",
       "      <th>largo_petalo</th>\n",
       "      <th>ancho_petalo</th>\n",
       "    </tr>\n",
       "    <tr>\n",
       "      <th>especie</th>\n",
       "      <th></th>\n",
       "      <th></th>\n",
       "      <th></th>\n",
       "      <th></th>\n",
       "    </tr>\n",
       "  </thead>\n",
       "  <tbody>\n",
       "    <tr>\n",
       "      <th>Iris-setosa</th>\n",
       "      <td>5.006</td>\n",
       "      <td>3.418</td>\n",
       "      <td>1.464</td>\n",
       "      <td>0.244</td>\n",
       "    </tr>\n",
       "    <tr>\n",
       "      <th>Iris-versicolor</th>\n",
       "      <td>5.936</td>\n",
       "      <td>2.770</td>\n",
       "      <td>4.260</td>\n",
       "      <td>1.326</td>\n",
       "    </tr>\n",
       "    <tr>\n",
       "      <th>Iris-virginica</th>\n",
       "      <td>6.588</td>\n",
       "      <td>2.974</td>\n",
       "      <td>5.552</td>\n",
       "      <td>2.026</td>\n",
       "    </tr>\n",
       "  </tbody>\n",
       "</table>\n",
       "</div>"
      ],
      "text/plain": [
       "                 largo_sepalo  ancho_sepalo  largo_petalo  ancho_petalo\n",
       "especie                                                                \n",
       "Iris-setosa             5.006         3.418         1.464         0.244\n",
       "Iris-versicolor         5.936         2.770         4.260         1.326\n",
       "Iris-virginica          6.588         2.974         5.552         2.026"
      ]
     },
     "execution_count": 170,
     "metadata": {},
     "output_type": "execute_result"
    }
   ],
   "source": [
    "df.groupby(['especie']).mean()"
   ]
  },
  {
   "cell_type": "code",
   "execution_count": 171,
   "metadata": {
    "collapsed": true
   },
   "outputs": [
    {
     "data": {
      "text/html": [
       "<div>\n",
       "<style scoped>\n",
       "    .dataframe tbody tr th:only-of-type {\n",
       "        vertical-align: middle;\n",
       "    }\n",
       "\n",
       "    .dataframe tbody tr th {\n",
       "        vertical-align: top;\n",
       "    }\n",
       "\n",
       "    .dataframe thead th {\n",
       "        text-align: right;\n",
       "    }\n",
       "</style>\n",
       "<table border=\"1\" class=\"dataframe\">\n",
       "  <thead>\n",
       "    <tr style=\"text-align: right;\">\n",
       "      <th></th>\n",
       "      <th>largo_sepalo</th>\n",
       "      <th>ancho_sepalo</th>\n",
       "      <th>largo_petalo</th>\n",
       "      <th>ancho_petalo</th>\n",
       "    </tr>\n",
       "    <tr>\n",
       "      <th>especie</th>\n",
       "      <th></th>\n",
       "      <th></th>\n",
       "      <th></th>\n",
       "      <th></th>\n",
       "    </tr>\n",
       "  </thead>\n",
       "  <tbody>\n",
       "    <tr>\n",
       "      <th>Iris-setosa</th>\n",
       "      <td>50</td>\n",
       "      <td>50</td>\n",
       "      <td>50</td>\n",
       "      <td>50</td>\n",
       "    </tr>\n",
       "    <tr>\n",
       "      <th>Iris-versicolor</th>\n",
       "      <td>50</td>\n",
       "      <td>50</td>\n",
       "      <td>50</td>\n",
       "      <td>50</td>\n",
       "    </tr>\n",
       "    <tr>\n",
       "      <th>Iris-virginica</th>\n",
       "      <td>50</td>\n",
       "      <td>50</td>\n",
       "      <td>50</td>\n",
       "      <td>50</td>\n",
       "    </tr>\n",
       "  </tbody>\n",
       "</table>\n",
       "</div>"
      ],
      "text/plain": [
       "                 largo_sepalo  ancho_sepalo  largo_petalo  ancho_petalo\n",
       "especie                                                                \n",
       "Iris-setosa                50            50            50            50\n",
       "Iris-versicolor            50            50            50            50\n",
       "Iris-virginica             50            50            50            50"
      ]
     },
     "execution_count": 171,
     "metadata": {},
     "output_type": "execute_result"
    }
   ],
   "source": [
    "#PUNTO 6: Hay 50 casos por cada especie.\n",
    "df.groupby(['especie']).count()"
   ]
  },
  {
   "cell_type": "code",
   "execution_count": 136,
   "metadata": {
    "collapsed": true
   },
   "outputs": [
    {
     "data": {
      "text/plain": [
       "150"
      ]
     },
     "execution_count": 136,
     "metadata": {},
     "output_type": "execute_result"
    }
   ],
   "source": [
    "#PUNTO 6: en total hay 150 casos\n",
    "df[\"especie\"].count()"
   ]
  },
  {
   "cell_type": "code",
   "execution_count": 250,
   "metadata": {},
   "outputs": [
    {
     "name": "stdout",
     "output_type": "stream",
     "text": [
      "152\n"
     ]
    }
   ],
   "source": [
    "import csv\n",
    "with open('data/iris.data', 'r') as file:\n",
    "    reader = csv.reader(file)\n",
    "    lista=[['largo_sepalo', 'ancho_sepalo', 'largo_petalo', \"ancho_petalo\", \"especie\"]]\n",
    "    for linea in reader:\n",
    "        lista.append(linea)\n",
    "\n",
    "#fieldnames = ['largo_sepalo', 'ancho_sepalo', 'largo_petalo', \"ancho_petalo\", \"especie\"]\n",
    "print(len(lista))"
   ]
  },
  {
   "cell_type": "code",
   "execution_count": 239,
   "metadata": {
    "scrolled": true
   },
   "outputs": [
    {
     "name": "stdout",
     "output_type": "stream",
     "text": [
      "------------  ------------  ------------  ------------  ---------------\n",
      "largo_sepalo  ancho_sepalo  largo_petalo  ancho_petalo  especie\n",
      "5.1           3.5           1.4           0.2           Iris-setosa\n",
      "4.9           3.0           1.4           0.2           Iris-setosa\n",
      "4.7           3.2           1.3           0.2           Iris-setosa\n",
      "4.6           3.1           1.5           0.2           Iris-setosa\n",
      "5.0           3.6           1.4           0.2           Iris-setosa\n",
      "5.4           3.9           1.7           0.4           Iris-setosa\n",
      "4.6           3.4           1.4           0.3           Iris-setosa\n",
      "5.0           3.4           1.5           0.2           Iris-setosa\n",
      "4.4           2.9           1.4           0.2           Iris-setosa\n",
      "4.9           3.1           1.5           0.1           Iris-setosa\n",
      "5.4           3.7           1.5           0.2           Iris-setosa\n",
      "4.8           3.4           1.6           0.2           Iris-setosa\n",
      "4.8           3.0           1.4           0.1           Iris-setosa\n",
      "4.3           3.0           1.1           0.1           Iris-setosa\n",
      "5.8           4.0           1.2           0.2           Iris-setosa\n",
      "5.7           4.4           1.5           0.4           Iris-setosa\n",
      "5.4           3.9           1.3           0.4           Iris-setosa\n",
      "5.1           3.5           1.4           0.3           Iris-setosa\n",
      "5.7           3.8           1.7           0.3           Iris-setosa\n",
      "5.1           3.8           1.5           0.3           Iris-setosa\n",
      "5.4           3.4           1.7           0.2           Iris-setosa\n",
      "5.1           3.7           1.5           0.4           Iris-setosa\n",
      "4.6           3.6           1.0           0.2           Iris-setosa\n",
      "5.1           3.3           1.7           0.5           Iris-setosa\n",
      "4.8           3.4           1.9           0.2           Iris-setosa\n",
      "5.0           3.0           1.6           0.2           Iris-setosa\n",
      "5.0           3.4           1.6           0.4           Iris-setosa\n",
      "5.2           3.5           1.5           0.2           Iris-setosa\n",
      "5.2           3.4           1.4           0.2           Iris-setosa\n",
      "4.7           3.2           1.6           0.2           Iris-setosa\n",
      "4.8           3.1           1.6           0.2           Iris-setosa\n",
      "5.4           3.4           1.5           0.4           Iris-setosa\n",
      "5.2           4.1           1.5           0.1           Iris-setosa\n",
      "5.5           4.2           1.4           0.2           Iris-setosa\n",
      "4.9           3.1           1.5           0.1           Iris-setosa\n",
      "5.0           3.2           1.2           0.2           Iris-setosa\n",
      "5.5           3.5           1.3           0.2           Iris-setosa\n",
      "4.9           3.1           1.5           0.1           Iris-setosa\n",
      "4.4           3.0           1.3           0.2           Iris-setosa\n",
      "5.1           3.4           1.5           0.2           Iris-setosa\n",
      "5.0           3.5           1.3           0.3           Iris-setosa\n",
      "4.5           2.3           1.3           0.3           Iris-setosa\n",
      "4.4           3.2           1.3           0.2           Iris-setosa\n",
      "5.0           3.5           1.6           0.6           Iris-setosa\n",
      "5.1           3.8           1.9           0.4           Iris-setosa\n",
      "4.8           3.0           1.4           0.3           Iris-setosa\n",
      "5.1           3.8           1.6           0.2           Iris-setosa\n",
      "4.6           3.2           1.4           0.2           Iris-setosa\n",
      "5.3           3.7           1.5           0.2           Iris-setosa\n",
      "5.0           3.3           1.4           0.2           Iris-setosa\n",
      "7.0           3.2           4.7           1.4           Iris-versicolor\n",
      "6.4           3.2           4.5           1.5           Iris-versicolor\n",
      "6.9           3.1           4.9           1.5           Iris-versicolor\n",
      "5.5           2.3           4.0           1.3           Iris-versicolor\n",
      "6.5           2.8           4.6           1.5           Iris-versicolor\n",
      "5.7           2.8           4.5           1.3           Iris-versicolor\n",
      "6.3           3.3           4.7           1.6           Iris-versicolor\n",
      "4.9           2.4           3.3           1.0           Iris-versicolor\n",
      "6.6           2.9           4.6           1.3           Iris-versicolor\n",
      "5.2           2.7           3.9           1.4           Iris-versicolor\n",
      "5.0           2.0           3.5           1.0           Iris-versicolor\n",
      "5.9           3.0           4.2           1.5           Iris-versicolor\n",
      "6.0           2.2           4.0           1.0           Iris-versicolor\n",
      "6.1           2.9           4.7           1.4           Iris-versicolor\n",
      "5.6           2.9           3.6           1.3           Iris-versicolor\n",
      "6.7           3.1           4.4           1.4           Iris-versicolor\n",
      "5.6           3.0           4.5           1.5           Iris-versicolor\n",
      "5.8           2.7           4.1           1.0           Iris-versicolor\n",
      "6.2           2.2           4.5           1.5           Iris-versicolor\n",
      "5.6           2.5           3.9           1.1           Iris-versicolor\n",
      "5.9           3.2           4.8           1.8           Iris-versicolor\n",
      "6.1           2.8           4.0           1.3           Iris-versicolor\n",
      "6.3           2.5           4.9           1.5           Iris-versicolor\n",
      "6.1           2.8           4.7           1.2           Iris-versicolor\n",
      "6.4           2.9           4.3           1.3           Iris-versicolor\n",
      "6.6           3.0           4.4           1.4           Iris-versicolor\n",
      "6.8           2.8           4.8           1.4           Iris-versicolor\n",
      "6.7           3.0           5.0           1.7           Iris-versicolor\n",
      "6.0           2.9           4.5           1.5           Iris-versicolor\n",
      "5.7           2.6           3.5           1.0           Iris-versicolor\n",
      "5.5           2.4           3.8           1.1           Iris-versicolor\n",
      "5.5           2.4           3.7           1.0           Iris-versicolor\n",
      "5.8           2.7           3.9           1.2           Iris-versicolor\n",
      "6.0           2.7           5.1           1.6           Iris-versicolor\n",
      "5.4           3.0           4.5           1.5           Iris-versicolor\n",
      "6.0           3.4           4.5           1.6           Iris-versicolor\n",
      "6.7           3.1           4.7           1.5           Iris-versicolor\n",
      "6.3           2.3           4.4           1.3           Iris-versicolor\n",
      "5.6           3.0           4.1           1.3           Iris-versicolor\n",
      "5.5           2.5           4.0           1.3           Iris-versicolor\n",
      "5.5           2.6           4.4           1.2           Iris-versicolor\n",
      "6.1           3.0           4.6           1.4           Iris-versicolor\n",
      "5.8           2.6           4.0           1.2           Iris-versicolor\n",
      "5.0           2.3           3.3           1.0           Iris-versicolor\n",
      "5.6           2.7           4.2           1.3           Iris-versicolor\n",
      "5.7           3.0           4.2           1.2           Iris-versicolor\n",
      "5.7           2.9           4.2           1.3           Iris-versicolor\n",
      "6.2           2.9           4.3           1.3           Iris-versicolor\n",
      "5.1           2.5           3.0           1.1           Iris-versicolor\n",
      "5.7           2.8           4.1           1.3           Iris-versicolor\n",
      "6.3           3.3           6.0           2.5           Iris-virginica\n",
      "5.8           2.7           5.1           1.9           Iris-virginica\n",
      "7.1           3.0           5.9           2.1           Iris-virginica\n",
      "6.3           2.9           5.6           1.8           Iris-virginica\n",
      "6.5           3.0           5.8           2.2           Iris-virginica\n",
      "7.6           3.0           6.6           2.1           Iris-virginica\n",
      "4.9           2.5           4.5           1.7           Iris-virginica\n",
      "7.3           2.9           6.3           1.8           Iris-virginica\n",
      "6.7           2.5           5.8           1.8           Iris-virginica\n",
      "7.2           3.6           6.1           2.5           Iris-virginica\n",
      "6.5           3.2           5.1           2.0           Iris-virginica\n",
      "6.4           2.7           5.3           1.9           Iris-virginica\n",
      "6.8           3.0           5.5           2.1           Iris-virginica\n",
      "5.7           2.5           5.0           2.0           Iris-virginica\n",
      "5.8           2.8           5.1           2.4           Iris-virginica\n",
      "6.4           3.2           5.3           2.3           Iris-virginica\n",
      "6.5           3.0           5.5           1.8           Iris-virginica\n",
      "7.7           3.8           6.7           2.2           Iris-virginica\n",
      "7.7           2.6           6.9           2.3           Iris-virginica\n",
      "6.0           2.2           5.0           1.5           Iris-virginica\n",
      "6.9           3.2           5.7           2.3           Iris-virginica\n",
      "5.6           2.8           4.9           2.0           Iris-virginica\n",
      "7.7           2.8           6.7           2.0           Iris-virginica\n",
      "6.3           2.7           4.9           1.8           Iris-virginica\n",
      "6.7           3.3           5.7           2.1           Iris-virginica\n",
      "7.2           3.2           6.0           1.8           Iris-virginica\n",
      "6.2           2.8           4.8           1.8           Iris-virginica\n",
      "6.1           3.0           4.9           1.8           Iris-virginica\n",
      "6.4           2.8           5.6           2.1           Iris-virginica\n",
      "7.2           3.0           5.8           1.6           Iris-virginica\n",
      "7.4           2.8           6.1           1.9           Iris-virginica\n",
      "7.9           3.8           6.4           2.0           Iris-virginica\n",
      "6.4           2.8           5.6           2.2           Iris-virginica\n",
      "6.3           2.8           5.1           1.5           Iris-virginica\n",
      "6.1           2.6           5.6           1.4           Iris-virginica\n",
      "7.7           3.0           6.1           2.3           Iris-virginica\n",
      "6.3           3.4           5.6           2.4           Iris-virginica\n",
      "6.4           3.1           5.5           1.8           Iris-virginica\n",
      "6.0           3.0           4.8           1.8           Iris-virginica\n",
      "6.9           3.1           5.4           2.1           Iris-virginica\n",
      "6.7           3.1           5.6           2.4           Iris-virginica\n",
      "6.9           3.1           5.1           2.3           Iris-virginica\n",
      "5.8           2.7           5.1           1.9           Iris-virginica\n",
      "6.8           3.2           5.9           2.3           Iris-virginica\n",
      "6.7           3.3           5.7           2.5           Iris-virginica\n",
      "6.7           3.0           5.2           2.3           Iris-virginica\n",
      "6.3           2.5           5.0           1.9           Iris-virginica\n",
      "6.5           3.0           5.2           2.0           Iris-virginica\n",
      "6.2           3.4           5.4           2.3           Iris-virginica\n",
      "5.9           3.0           5.1           1.8           Iris-virginica\n",
      "\n",
      "------------  ------------  ------------  ------------  ---------------\n"
     ]
    }
   ],
   "source": [
    "print(tabulate(lista))"
   ]
  },
  {
   "cell_type": "code",
   "execution_count": 260,
   "metadata": {},
   "outputs": [
    {
     "name": "stdout",
     "output_type": "stream",
     "text": [
      "152\n"
     ]
    },
    {
     "data": {
      "text/plain": [
       "151"
      ]
     },
     "execution_count": 260,
     "metadata": {},
     "output_type": "execute_result"
    }
   ],
   "source": [
    "print(len(lista))\n",
    "lista.pop(-1)\n",
    "len(lista)"
   ]
  },
  {
   "cell_type": "code",
   "execution_count": 263,
   "metadata": {},
   "outputs": [
    {
     "ename": "IndexError",
     "evalue": "list index out of range",
     "output_type": "error",
     "traceback": [
      "\u001b[0;31m---------------------------------------------------------------------------\u001b[0m",
      "\u001b[0;31mIndexError\u001b[0m                                Traceback (most recent call last)",
      "\u001b[0;32m<ipython-input-263-9f151236babe>\u001b[0m in \u001b[0;36m<module>\u001b[0;34m\u001b[0m\n\u001b[0;32m----> 1\u001b[0;31m \u001b[0mlista\u001b[0m\u001b[0;34m[\u001b[0m\u001b[0;36m151\u001b[0m\u001b[0;34m]\u001b[0m\u001b[0;34m\u001b[0m\u001b[0;34m\u001b[0m\u001b[0m\n\u001b[0m",
      "\u001b[0;31mIndexError\u001b[0m: list index out of range"
     ]
    }
   ],
   "source": [
    "lista[151]"
   ]
  },
  {
   "cell_type": "code",
   "execution_count": 279,
   "metadata": {},
   "outputs": [
    {
     "name": "stdout",
     "output_type": "stream",
     "text": [
      "El promedio de largo_sepalo de las especies Iris-versicolor es:  5.94\n",
      "El promedio de largo_sepalo de las especies Iris-virginica es:  6.59\n",
      "El promedio de largo_sepalo de las especies Iris-setosa es:  5.01\n",
      "El promedio de ancho_sepalo de las especies Iris-versicolor es:  2.77\n",
      "El promedio de ancho_sepalo de las especies Iris-virginica es:  2.97\n",
      "El promedio de ancho_sepalo de las especies Iris-setosa es:  3.42\n",
      "El promedio de largo_petalo de las especies Iris-versicolor es:  4.26\n",
      "El promedio de largo_petalo de las especies Iris-virginica es:  5.55\n",
      "El promedio de largo_petalo de las especies Iris-setosa es:  1.46\n",
      "El promedio de ancho_petalo de las especies Iris-versicolor es:  1.33\n",
      "El promedio de ancho_petalo de las especies Iris-virginica es:  2.03\n",
      "El promedio de ancho_petalo de las especies Iris-setosa es:  0.24\n"
     ]
    }
   ],
   "source": [
    "#PUNTO 5: VERSION CON LISTAS.\n",
    "\n",
    "def promedio(especie, variable, lista):\n",
    "    variables = ['largo_sepalo', 'ancho_sepalo', 'largo_petalo', \"ancho_petalo\", \"especie\"]\n",
    "    indice_variable = variables.index(variable)\n",
    "    acumulador= 0\n",
    "    contador = 0\n",
    "    for elemento in lista:\n",
    "        if elemento[4] == especie:\n",
    "            contador = contador + 1\n",
    "            acumulador = acumulador + float(elemento[indice_variable])\n",
    "    return round(acumulador/contador, 2)\n",
    "\n",
    "for especie in especies:\n",
    "    print(\"El promedio de \" \n",
    "      + variables[0] \n",
    "      + \" de las especies \"\n",
    "      + especie \n",
    "      + \" es: \", \n",
    "          promedio(especie, variables[0], lista))\n",
    "for especie in especies:\n",
    "    print(\"El promedio de \" \n",
    "      + variables[1] \n",
    "      + \" de las especies \"\n",
    "      + especie \n",
    "      + \" es: \", \n",
    "          promedio(especie, variables[1], lista))\n",
    "for especie in especies:\n",
    "    print(\"El promedio de \" \n",
    "      + variables[2] \n",
    "      + \" de las especies \"\n",
    "      + especie \n",
    "      + \" es: \", \n",
    "          promedio(especie, variables[2], lista))\n",
    "for especie in especies:\n",
    "    print(\"El promedio de \" \n",
    "      + variables[3] \n",
    "      + \" de las especies \"\n",
    "      + especie \n",
    "      + \" es: \", \n",
    "          promedio(especie, variables[3], lista))\n",
    "\n",
    "\n",
    "\n"
   ]
  },
  {
   "cell_type": "code",
   "execution_count": 300,
   "metadata": {},
   "outputs": [
    {
     "name": "stdout",
     "output_type": "stream",
     "text": [
      "1\n",
      "10\n",
      "30\n",
      "100\n"
     ]
    }
   ],
   "source": [
    "#PUNTO 7: \n",
    "#Modifique los datos de las filas número 1, 10, 30 y 100, \n",
    "#asignando elvalor 0 a cada uno de los valores de las primeras 4 columnas. \n",
    "#Asigne elvalor N/A al valor de la columna ‘especie’ en esas primeras filas.\n",
    "for indice in range(0,101):\n",
    "    \n",
    "    if indice == 1 or indice == 10 or indice == 30 or indice == 100:\n",
    "        lista[indice] = [0, 0, 0, 0, \"N/A\"]"
   ]
  },
  {
   "cell_type": "code",
   "execution_count": 306,
   "metadata": {},
   "outputs": [
    {
     "name": "stdout",
     "output_type": "stream",
     "text": [
      "[0, 0, 0, 0, 'N/A'] [0, 0, 0, 0, 'N/A'] [0, 0, 0, 0, 'N/A'] [0, 0, 0, 0, 'N/A']\n"
     ]
    }
   ],
   "source": [
    "print(lista[1], lista[10], lista[30], lista[100])"
   ]
  },
  {
   "cell_type": "code",
   "execution_count": 307,
   "metadata": {},
   "outputs": [
    {
     "data": {
      "text/plain": [
       "151"
      ]
     },
     "execution_count": 307,
     "metadata": {},
     "output_type": "execute_result"
    }
   ],
   "source": [
    "#Punto 8:\n",
    "len(lista)"
   ]
  },
  {
   "cell_type": "code",
   "execution_count": 314,
   "metadata": {},
   "outputs": [],
   "source": [
    "#Guardar archivo\n",
    "with open(\"iris_editado.csv\", \"w\") as f:\n",
    "  writer = csv.writer(f)\n",
    "  writer.writerows(zip(lista))"
   ]
  }
 ],
 "metadata": {
  "kernelspec": {
   "display_name": "Python 3",
   "language": "python",
   "name": "python3"
  },
  "language_info": {
   "codemirror_mode": {
    "name": "ipython",
    "version": 3
   },
   "file_extension": ".py",
   "mimetype": "text/x-python",
   "name": "python",
   "nbconvert_exporter": "python",
   "pygments_lexer": "ipython3",
   "version": "3.6.10"
  }
 },
 "nbformat": 4,
 "nbformat_minor": 4
}
